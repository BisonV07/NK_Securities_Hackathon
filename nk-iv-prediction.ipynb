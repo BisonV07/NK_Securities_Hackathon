{
 "cells": [
  {
   "cell_type": "code",
   "execution_count": 1,
   "id": "a512c52a",
   "metadata": {
    "_cell_guid": "b1076dfc-b9ad-4769-8c92-a6c4dae69d19",
    "_uuid": "8f2839f25d086af736a60e9eeb907d3b93b6e0e5",
    "execution": {
     "iopub.execute_input": "2025-06-08T07:14:26.513625Z",
     "iopub.status.busy": "2025-06-08T07:14:26.513410Z",
     "iopub.status.idle": "2025-06-08T07:14:27.869411Z",
     "shell.execute_reply": "2025-06-08T07:14:27.868481Z"
    },
    "papermill": {
     "duration": 1.359934,
     "end_time": "2025-06-08T07:14:27.870866",
     "exception": false,
     "start_time": "2025-06-08T07:14:26.510932",
     "status": "completed"
    },
    "tags": []
   },
   "outputs": [
    {
     "name": "stdout",
     "output_type": "stream",
     "text": [
      "/kaggle/input/nk-iv-prediction/test_data.parquet\n",
      "/kaggle/input/nk-iv-prediction/sample_submission.csv\n",
      "/kaggle/input/nk-iv-prediction/train_data.parquet\n"
     ]
    }
   ],
   "source": [
    "# This Python 3 environment comes with many helpful analytics libraries installed\n",
    "# It is defined by the kaggle/python Docker image: https://github.com/kaggle/docker-python\n",
    "# For example, here's several helpful packages to load\n",
    "\n",
    "import numpy as np # linear algebra\n",
    "import pandas as pd # data processing, CSV file I/O (e.g. pd.read_csv)\n",
    "\n",
    "# Input data files are available in the read-only \"../input/\" directory\n",
    "# For example, running this (by clicking run or pressing Shift+Enter) will list all files under the input directory\n",
    "\n",
    "import os\n",
    "for dirname, _, filenames in os.walk('/kaggle/input'):\n",
    "    for filename in filenames:\n",
    "        print(os.path.join(dirname, filename))\n",
    "\n",
    "# You can write up to 20GB to the current directory (/kaggle/working/) that gets preserved as output when you create a version using \"Save & Run All\" \n",
    "# You can also write temporary files to /kaggle/temp/, but they won't be saved outside of the current session"
   ]
  },
  {
   "cell_type": "code",
   "execution_count": 2,
   "id": "d03284dc",
   "metadata": {
    "execution": {
     "iopub.execute_input": "2025-06-08T07:14:27.875120Z",
     "iopub.status.busy": "2025-06-08T07:14:27.874768Z",
     "iopub.status.idle": "2025-06-08T07:15:48.894314Z",
     "shell.execute_reply": "2025-06-08T07:15:48.893409Z"
    },
    "papermill": {
     "duration": 81.023008,
     "end_time": "2025-06-08T07:15:48.895571",
     "exception": false,
     "start_time": "2025-06-08T07:14:27.872563",
     "status": "completed"
    },
    "tags": []
   },
   "outputs": [
    {
     "name": "stdout",
     "output_type": "stream",
     "text": [
      "🔄 Using IterativeImputer with XGBoost...\n",
      "🎯 Applying Bayesian Polynomial Smile Extrapolation (degree=5)...\n",
      "✅ IV NaNs before: 376504, after: 0\n",
      "📁 Submission saved as 'imputed_submission.csv'\n"
     ]
    }
   ],
   "source": [
    "import pandas as pd\n",
    "import numpy as np\n",
    "from sklearn.experimental import enable_iterative_imputer\n",
    "from sklearn.impute import IterativeImputer\n",
    "from xgboost import XGBRegressor\n",
    "from sklearn.preprocessing import PolynomialFeatures\n",
    "\n",
    "# 📁 Load Data\n",
    "train_df = pd.read_parquet('/kaggle/input/nk-iv-prediction/train_data.parquet')\n",
    "test_df = pd.read_parquet('/kaggle/input/nk-iv-prediction/test_data.parquet')\n",
    "sample_submission = pd.read_csv('/kaggle/input/nk-iv-prediction/sample_submission.csv')\n",
    "\n",
    "# 🎯 Target IV columns\n",
    "iv_cols = [col for col in sample_submission.columns if col.startswith('call_iv_') or col.startswith('put_iv_')]\n",
    "\n",
    "# 🔍 Identify test-only and train-only columns\n",
    "train_only = set(train_df.columns) - set(test_df.columns)\n",
    "test_only = set(test_df.columns) - set(train_df.columns)\n",
    "\n",
    "# ⚙ Select numeric features present in both\n",
    "numeric_cols = test_df.select_dtypes(include=np.number).columns.tolist()\n",
    "valid_features = [col for col in numeric_cols if col not in train_only and col not in test_only]\n",
    "\n",
    "# ❌ Remove sparse columns (more than 50% zeros)\n",
    "filtered_features = [col for col in valid_features if (test_df[col] == 0).mean() < 0.5]\n",
    "\n",
    "# 🔧 Columns to impute: IVs + filtered features\n",
    "impute_cols = sorted(set(iv_cols + filtered_features))\n",
    "test_impute_df = test_df[impute_cols].copy()\n",
    "\n",
    "# 📊 Track missing before\n",
    "nan_before = test_df[iv_cols].isna().sum().sum()\n",
    "\n",
    "# 🔄 Impute using IterativeImputer with XGBoost\n",
    "print(\"🔄 Using IterativeImputer with XGBoost...\")\n",
    "xgb_estimator = XGBRegressor(n_estimators=200, max_depth=7, learning_rate=0.08,\n",
    "                              tree_method=\"gpu_hist\", predictor=\"gpu_predictor\", verbosity=0)\n",
    "imputer = IterativeImputer(estimator=xgb_estimator, random_state=42, max_iter=10, initial_strategy='mean')\n",
    "test_df[impute_cols] = imputer.fit_transform(test_impute_df)\n",
    "\n",
    "# 📈 Bayesian Polynomial Regression for smile extrapolation\n",
    "def fit_iv_smile_bayesian(row, kind='call', degree=5):\n",
    "    strikes, ivs = [], []\n",
    "    for col in iv_cols:\n",
    "        if col.startswith(f'{kind}_iv_') and col not in test_only and not pd.isna(row[col]):\n",
    "            try:\n",
    "                strike = int(col.split('_')[-1])\n",
    "                strikes.append([strike])\n",
    "                ivs.append(row[col])\n",
    "            except:\n",
    "                continue\n",
    "    if len(strikes) >= degree + 1:\n",
    "        try:\n",
    "            poly = PolynomialFeatures(degree=degree)\n",
    "            X_poly = poly.fit_transform(strikes)\n",
    "            from sklearn.linear_model import BayesianRidge\n",
    "            model = BayesianRidge()\n",
    "            model.fit(X_poly, ivs)\n",
    "            for col in iv_cols:\n",
    "                if col.startswith(f'{kind}_iv_') and col in test_only and pd.isna(row.get(col, None)):\n",
    "                    try:\n",
    "                        strike = int(col.split('_')[-1])\n",
    "                        X_pred = poly.transform([[strike]])\n",
    "                        row[col] = model.predict(X_pred)[0]\n",
    "                    except:\n",
    "                        continue\n",
    "        except:\n",
    "            pass\n",
    "    return row\n",
    "\n",
    "# 🚀 Apply Bayesian smile extrapolation\n",
    "print(\"🎯 Applying Bayesian Polynomial Smile Extrapolation (degree=5)...\")\n",
    "test_df = test_df.apply(lambda row: fit_iv_smile_bayesian(row, 'call', degree=5), axis=1)\n",
    "test_df = test_df.apply(lambda row: fit_iv_smile_bayesian(row, 'put', degree=5), axis=1)\n",
    "\n",
    "# 📊 Log final NaN count\n",
    "nan_after = test_df[iv_cols].isna().sum().sum()\n",
    "print(f\"✅ IV NaNs before: {nan_before}, after: {nan_after}\")\n",
    "\n",
    "# 📤 Final Submission\n",
    "submission = sample_submission.copy()\n",
    "submission[iv_cols] = test_df[iv_cols]\n",
    "submission.to_csv(\"imputed_submission.csv\", index=False, float_format=\"%.6f\")\n",
    "print(\"📁 Submission saved as 'imputed_submission.csv'\")\n"
   ]
  }
 ],
 "metadata": {
  "kaggle": {
   "accelerator": "gpu",
   "dataSources": [
    {
     "databundleVersionId": 12520411,
     "sourceId": 104024,
     "sourceType": "competition"
    }
   ],
   "dockerImageVersionId": 31040,
   "isGpuEnabled": true,
   "isInternetEnabled": true,
   "language": "python",
   "sourceType": "notebook"
  },
  "kernelspec": {
   "display_name": "Python 3",
   "language": "python",
   "name": "python3"
  },
  "language_info": {
   "codemirror_mode": {
    "name": "ipython",
    "version": 3
   },
   "file_extension": ".py",
   "mimetype": "text/x-python",
   "name": "python",
   "nbconvert_exporter": "python",
   "pygments_lexer": "ipython3",
   "version": "3.11.11"
  },
  "papermill": {
   "default_parameters": {},
   "duration": 87.043955,
   "end_time": "2025-06-08T07:15:49.514738",
   "environment_variables": {},
   "exception": null,
   "input_path": "__notebook__.ipynb",
   "output_path": "__notebook__.ipynb",
   "parameters": {},
   "start_time": "2025-06-08T07:14:22.470783",
   "version": "2.6.0"
  }
 },
 "nbformat": 4,
 "nbformat_minor": 5
}
